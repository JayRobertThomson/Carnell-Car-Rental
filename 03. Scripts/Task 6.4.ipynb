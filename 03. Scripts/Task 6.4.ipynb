{
 "cells": [
  {
   "cell_type": "markdown",
   "id": "2800d540",
   "metadata": {},
   "source": [
    "# Task 6.4 Machine Learning\n"
   ]
  },
  {
   "cell_type": "markdown",
   "id": "c25a5cd5",
   "metadata": {},
   "source": [
    "## This script contains the following:\n",
    "\n",
    "#### 1. Importing libraries and data\n",
    "#### 2. Data cleaning\n",
    "#### 3. Data prep for regression analysis\n",
    "#### 4. Regression analysis"
   ]
  },
  {
   "cell_type": "code",
   "execution_count": 64,
   "id": "ee1af463",
   "metadata": {},
   "outputs": [],
   "source": [
    "# Import libraries \n",
    "\n",
    "import pandas as pd\n",
    "import numpy as np\n",
    "import seaborn as sns\n",
    "import matplotlib\n",
    "import matplotlib.pyplot as plt\n",
    "from matplotlib import pyplot\n",
    "import os\n",
    "import sklearn\n",
    "from sklearn.model_selection import train_test_split \n",
    "from sklearn.linear_model import LinearRegression\n",
    "from sklearn.metrics import mean_squared_error, r2_score"
   ]
  },
  {
   "cell_type": "code",
   "execution_count": 45,
   "id": "db1df067",
   "metadata": {},
   "outputs": [],
   "source": [
    "%matplotlib inline"
   ]
  },
  {
   "cell_type": "code",
   "execution_count": 46,
   "id": "1c9a6f1b",
   "metadata": {},
   "outputs": [],
   "source": [
    "#Import data frame\n",
    "\n",
    "df = pd.read_csv(r\"C:\\Users\\thoms\\Desktop\\Data Analytics\\Achievement 6\\Rental Car\\02. Data\\Prepared Data\\CarRentalDataV1.csv\")"
   ]
  },
  {
   "cell_type": "code",
   "execution_count": 47,
   "id": "beb7c772",
   "metadata": {},
   "outputs": [],
   "source": [
    "path = r'Users\\thoms\\Desktop\\Data Analytics\\Achievement 6\\Rental Car\\02. Data'"
   ]
  },
  {
   "cell_type": "code",
   "execution_count": 48,
   "id": "c75cf67b",
   "metadata": {},
   "outputs": [
    {
     "data": {
      "text/plain": [
       "Index(['Unnamed: 0', 'fuel.type', 'rating', 'renter.trips.taken',\n",
       "       'review.count', 'location.city', 'location.country',\n",
       "       'location.latitude', 'location.longitude', 'location.state', 'owner.id',\n",
       "       'rate.daily', 'vehicle.make', 'vehicle.model', 'vehicle.type',\n",
       "       'vehicle.year', 'airport.city', 'rate category'],\n",
       "      dtype='object')"
      ]
     },
     "execution_count": 48,
     "metadata": {},
     "output_type": "execute_result"
    }
   ],
   "source": [
    "# Data Cleaning\n",
    "\n",
    "df.columns"
   ]
  },
  {
   "cell_type": "code",
   "execution_count": 49,
   "id": "c1436c7f",
   "metadata": {},
   "outputs": [
    {
     "data": {
      "text/html": [
       "<div>\n",
       "<style scoped>\n",
       "    .dataframe tbody tr th:only-of-type {\n",
       "        vertical-align: middle;\n",
       "    }\n",
       "\n",
       "    .dataframe tbody tr th {\n",
       "        vertical-align: top;\n",
       "    }\n",
       "\n",
       "    .dataframe thead th {\n",
       "        text-align: right;\n",
       "    }\n",
       "</style>\n",
       "<table border=\"1\" class=\"dataframe\">\n",
       "  <thead>\n",
       "    <tr style=\"text-align: right;\">\n",
       "      <th></th>\n",
       "      <th>Unnamed: 0</th>\n",
       "      <th>fuel.type</th>\n",
       "      <th>rating</th>\n",
       "      <th>renter.trips.taken</th>\n",
       "      <th>review.count</th>\n",
       "      <th>location.city</th>\n",
       "      <th>location.country</th>\n",
       "      <th>location.latitude</th>\n",
       "      <th>location.longitude</th>\n",
       "      <th>location.state</th>\n",
       "      <th>owner.id</th>\n",
       "      <th>rate.daily</th>\n",
       "      <th>vehicle.make</th>\n",
       "      <th>vehicle.model</th>\n",
       "      <th>vehicle.type</th>\n",
       "      <th>vehicle.year</th>\n",
       "      <th>airport.city</th>\n",
       "      <th>rate category</th>\n",
       "    </tr>\n",
       "  </thead>\n",
       "  <tbody>\n",
       "    <tr>\n",
       "      <th>0</th>\n",
       "      <td>0</td>\n",
       "      <td>ELECTRIC</td>\n",
       "      <td>5.00</td>\n",
       "      <td>13.0</td>\n",
       "      <td>12.0</td>\n",
       "      <td>Seattle</td>\n",
       "      <td>US</td>\n",
       "      <td>47.449107</td>\n",
       "      <td>-122.308841</td>\n",
       "      <td>WA</td>\n",
       "      <td>12847615</td>\n",
       "      <td>135</td>\n",
       "      <td>Tesla</td>\n",
       "      <td>Model X</td>\n",
       "      <td>suv</td>\n",
       "      <td>2019</td>\n",
       "      <td>Albuquerque</td>\n",
       "      <td>High rate</td>\n",
       "    </tr>\n",
       "    <tr>\n",
       "      <th>1</th>\n",
       "      <td>1</td>\n",
       "      <td>ELECTRIC</td>\n",
       "      <td>5.00</td>\n",
       "      <td>2.0</td>\n",
       "      <td>1.0</td>\n",
       "      <td>Tijeras</td>\n",
       "      <td>US</td>\n",
       "      <td>35.111060</td>\n",
       "      <td>-106.276551</td>\n",
       "      <td>NM</td>\n",
       "      <td>15621242</td>\n",
       "      <td>190</td>\n",
       "      <td>Tesla</td>\n",
       "      <td>Model X</td>\n",
       "      <td>suv</td>\n",
       "      <td>2018</td>\n",
       "      <td>Albuquerque</td>\n",
       "      <td>High rate</td>\n",
       "    </tr>\n",
       "    <tr>\n",
       "      <th>2</th>\n",
       "      <td>2</td>\n",
       "      <td>HYBRID</td>\n",
       "      <td>4.92</td>\n",
       "      <td>28.0</td>\n",
       "      <td>24.0</td>\n",
       "      <td>Albuquerque</td>\n",
       "      <td>US</td>\n",
       "      <td>35.127163</td>\n",
       "      <td>-106.566681</td>\n",
       "      <td>NM</td>\n",
       "      <td>10199256</td>\n",
       "      <td>35</td>\n",
       "      <td>Toyota</td>\n",
       "      <td>Prius</td>\n",
       "      <td>car</td>\n",
       "      <td>2012</td>\n",
       "      <td>Albuquerque</td>\n",
       "      <td>High rate</td>\n",
       "    </tr>\n",
       "    <tr>\n",
       "      <th>3</th>\n",
       "      <td>3</td>\n",
       "      <td>GASOLINE</td>\n",
       "      <td>5.00</td>\n",
       "      <td>21.0</td>\n",
       "      <td>20.0</td>\n",
       "      <td>Albuquerque</td>\n",
       "      <td>US</td>\n",
       "      <td>35.149726</td>\n",
       "      <td>-106.711425</td>\n",
       "      <td>NM</td>\n",
       "      <td>9365496</td>\n",
       "      <td>75</td>\n",
       "      <td>Ford</td>\n",
       "      <td>Mustang</td>\n",
       "      <td>car</td>\n",
       "      <td>2018</td>\n",
       "      <td>Albuquerque</td>\n",
       "      <td>average rate</td>\n",
       "    </tr>\n",
       "    <tr>\n",
       "      <th>4</th>\n",
       "      <td>4</td>\n",
       "      <td>GASOLINE</td>\n",
       "      <td>5.00</td>\n",
       "      <td>3.0</td>\n",
       "      <td>1.0</td>\n",
       "      <td>Albuquerque</td>\n",
       "      <td>US</td>\n",
       "      <td>35.208659</td>\n",
       "      <td>-106.601008</td>\n",
       "      <td>NM</td>\n",
       "      <td>3553565</td>\n",
       "      <td>47</td>\n",
       "      <td>Chrysler</td>\n",
       "      <td>Sebring</td>\n",
       "      <td>car</td>\n",
       "      <td>2010</td>\n",
       "      <td>Albuquerque</td>\n",
       "      <td>average rate</td>\n",
       "    </tr>\n",
       "  </tbody>\n",
       "</table>\n",
       "</div>"
      ],
      "text/plain": [
       "   Unnamed: 0 fuel.type  rating  renter.trips.taken  review.count  \\\n",
       "0           0  ELECTRIC    5.00                13.0          12.0   \n",
       "1           1  ELECTRIC    5.00                 2.0           1.0   \n",
       "2           2    HYBRID    4.92                28.0          24.0   \n",
       "3           3  GASOLINE    5.00                21.0          20.0   \n",
       "4           4  GASOLINE    5.00                 3.0           1.0   \n",
       "\n",
       "  location.city location.country  location.latitude  location.longitude  \\\n",
       "0       Seattle               US          47.449107         -122.308841   \n",
       "1       Tijeras               US          35.111060         -106.276551   \n",
       "2   Albuquerque               US          35.127163         -106.566681   \n",
       "3   Albuquerque               US          35.149726         -106.711425   \n",
       "4   Albuquerque               US          35.208659         -106.601008   \n",
       "\n",
       "  location.state  owner.id  rate.daily vehicle.make vehicle.model  \\\n",
       "0             WA  12847615         135        Tesla       Model X   \n",
       "1             NM  15621242         190        Tesla       Model X   \n",
       "2             NM  10199256          35       Toyota         Prius   \n",
       "3             NM   9365496          75         Ford       Mustang   \n",
       "4             NM   3553565          47     Chrysler       Sebring   \n",
       "\n",
       "  vehicle.type  vehicle.year airport.city rate category  \n",
       "0          suv          2019  Albuquerque     High rate  \n",
       "1          suv          2018  Albuquerque     High rate  \n",
       "2          car          2012  Albuquerque     High rate  \n",
       "3          car          2018  Albuquerque  average rate  \n",
       "4          car          2010  Albuquerque  average rate  "
      ]
     },
     "execution_count": 49,
     "metadata": {},
     "output_type": "execute_result"
    }
   ],
   "source": [
    "df.head()"
   ]
  },
  {
   "cell_type": "code",
   "execution_count": 50,
   "id": "008700c2",
   "metadata": {},
   "outputs": [
    {
     "data": {
      "text/plain": [
       "(5776, 18)"
      ]
     },
     "execution_count": 50,
     "metadata": {},
     "output_type": "execute_result"
    }
   ],
   "source": [
    "df.shape"
   ]
  },
  {
   "cell_type": "code",
   "execution_count": 51,
   "id": "d82bf257",
   "metadata": {},
   "outputs": [],
   "source": [
    "del df['Unnamed: 0']\n"
   ]
  },
  {
   "cell_type": "code",
   "execution_count": 52,
   "id": "8a33b498",
   "metadata": {},
   "outputs": [
    {
     "data": {
      "text/html": [
       "<div>\n",
       "<style scoped>\n",
       "    .dataframe tbody tr th:only-of-type {\n",
       "        vertical-align: middle;\n",
       "    }\n",
       "\n",
       "    .dataframe tbody tr th {\n",
       "        vertical-align: top;\n",
       "    }\n",
       "\n",
       "    .dataframe thead th {\n",
       "        text-align: right;\n",
       "    }\n",
       "</style>\n",
       "<table border=\"1\" class=\"dataframe\">\n",
       "  <thead>\n",
       "    <tr style=\"text-align: right;\">\n",
       "      <th></th>\n",
       "      <th>rating</th>\n",
       "      <th>renter.trips.taken</th>\n",
       "      <th>review.count</th>\n",
       "      <th>location.latitude</th>\n",
       "      <th>location.longitude</th>\n",
       "      <th>owner.id</th>\n",
       "      <th>rate.daily</th>\n",
       "      <th>vehicle.year</th>\n",
       "    </tr>\n",
       "  </thead>\n",
       "  <tbody>\n",
       "    <tr>\n",
       "      <th>count</th>\n",
       "      <td>5776.000000</td>\n",
       "      <td>5776.000000</td>\n",
       "      <td>5776.000000</td>\n",
       "      <td>5776.000000</td>\n",
       "      <td>5776.000000</td>\n",
       "      <td>5.776000e+03</td>\n",
       "      <td>5776.000000</td>\n",
       "      <td>5776.000000</td>\n",
       "    </tr>\n",
       "    <tr>\n",
       "      <th>mean</th>\n",
       "      <td>4.920462</td>\n",
       "      <td>36.076864</td>\n",
       "      <td>31.013305</td>\n",
       "      <td>35.619656</td>\n",
       "      <td>-99.700961</td>\n",
       "      <td>6.042702e+06</td>\n",
       "      <td>92.950312</td>\n",
       "      <td>2015.324100</td>\n",
       "    </tr>\n",
       "    <tr>\n",
       "      <th>std</th>\n",
       "      <td>0.174438</td>\n",
       "      <td>40.913303</td>\n",
       "      <td>34.129631</td>\n",
       "      <td>6.425252</td>\n",
       "      <td>20.412581</td>\n",
       "      <td>4.643376e+06</td>\n",
       "      <td>92.335654</td>\n",
       "      <td>3.959083</td>\n",
       "    </tr>\n",
       "    <tr>\n",
       "      <th>min</th>\n",
       "      <td>1.000000</td>\n",
       "      <td>1.000000</td>\n",
       "      <td>1.000000</td>\n",
       "      <td>21.272565</td>\n",
       "      <td>-158.165693</td>\n",
       "      <td>5.105000e+03</td>\n",
       "      <td>20.000000</td>\n",
       "      <td>1955.000000</td>\n",
       "    </tr>\n",
       "    <tr>\n",
       "      <th>25%</th>\n",
       "      <td>4.910000</td>\n",
       "      <td>9.000000</td>\n",
       "      <td>8.000000</td>\n",
       "      <td>30.494413</td>\n",
       "      <td>-117.159396</td>\n",
       "      <td>1.951101e+06</td>\n",
       "      <td>45.000000</td>\n",
       "      <td>2013.000000</td>\n",
       "    </tr>\n",
       "    <tr>\n",
       "      <th>50%</th>\n",
       "      <td>4.980000</td>\n",
       "      <td>25.000000</td>\n",
       "      <td>22.000000</td>\n",
       "      <td>35.615110</td>\n",
       "      <td>-95.766487</td>\n",
       "      <td>4.993965e+06</td>\n",
       "      <td>69.000000</td>\n",
       "      <td>2016.000000</td>\n",
       "    </tr>\n",
       "    <tr>\n",
       "      <th>75%</th>\n",
       "      <td>5.000000</td>\n",
       "      <td>46.000000</td>\n",
       "      <td>40.000000</td>\n",
       "      <td>40.000311</td>\n",
       "      <td>-81.556676</td>\n",
       "      <td>9.658961e+06</td>\n",
       "      <td>110.000000</td>\n",
       "      <td>2018.000000</td>\n",
       "    </tr>\n",
       "    <tr>\n",
       "      <th>max</th>\n",
       "      <td>5.000000</td>\n",
       "      <td>395.000000</td>\n",
       "      <td>321.000000</td>\n",
       "      <td>64.893610</td>\n",
       "      <td>-68.823637</td>\n",
       "      <td>1.581088e+07</td>\n",
       "      <td>1500.000000</td>\n",
       "      <td>2020.000000</td>\n",
       "    </tr>\n",
       "  </tbody>\n",
       "</table>\n",
       "</div>"
      ],
      "text/plain": [
       "            rating  renter.trips.taken  review.count  location.latitude  \\\n",
       "count  5776.000000         5776.000000   5776.000000        5776.000000   \n",
       "mean      4.920462           36.076864     31.013305          35.619656   \n",
       "std       0.174438           40.913303     34.129631           6.425252   \n",
       "min       1.000000            1.000000      1.000000          21.272565   \n",
       "25%       4.910000            9.000000      8.000000          30.494413   \n",
       "50%       4.980000           25.000000     22.000000          35.615110   \n",
       "75%       5.000000           46.000000     40.000000          40.000311   \n",
       "max       5.000000          395.000000    321.000000          64.893610   \n",
       "\n",
       "       location.longitude      owner.id   rate.daily  vehicle.year  \n",
       "count         5776.000000  5.776000e+03  5776.000000   5776.000000  \n",
       "mean           -99.700961  6.042702e+06    92.950312   2015.324100  \n",
       "std             20.412581  4.643376e+06    92.335654      3.959083  \n",
       "min           -158.165693  5.105000e+03    20.000000   1955.000000  \n",
       "25%           -117.159396  1.951101e+06    45.000000   2013.000000  \n",
       "50%            -95.766487  4.993965e+06    69.000000   2016.000000  \n",
       "75%            -81.556676  9.658961e+06   110.000000   2018.000000  \n",
       "max            -68.823637  1.581088e+07  1500.000000   2020.000000  "
      ]
     },
     "execution_count": 52,
     "metadata": {},
     "output_type": "execute_result"
    }
   ],
   "source": [
    "df.describe()"
   ]
  },
  {
   "cell_type": "code",
   "execution_count": 53,
   "id": "0a2dddaf",
   "metadata": {},
   "outputs": [
    {
     "data": {
      "text/plain": [
       "fuel.type               0\n",
       "rating                  0\n",
       "renter.trips.taken      0\n",
       "review.count            0\n",
       "location.city           0\n",
       "location.country        0\n",
       "location.latitude       0\n",
       "location.longitude      0\n",
       "location.state          0\n",
       "owner.id                0\n",
       "rate.daily              0\n",
       "vehicle.make            0\n",
       "vehicle.model           0\n",
       "vehicle.type            0\n",
       "vehicle.year            0\n",
       "airport.city            0\n",
       "rate category         369\n",
       "dtype: int64"
      ]
     },
     "execution_count": 53,
     "metadata": {},
     "output_type": "execute_result"
    }
   ],
   "source": [
    "df.isnull().sum()"
   ]
  },
  {
   "cell_type": "code",
   "execution_count": 54,
   "id": "3f68894a",
   "metadata": {},
   "outputs": [],
   "source": [
    "# Check duplicates\n",
    "\n",
    "\n",
    "dups = df.duplicated()"
   ]
  },
  {
   "cell_type": "code",
   "execution_count": 55,
   "id": "265ec700",
   "metadata": {},
   "outputs": [
    {
     "data": {
      "text/plain": [
       "(5776,)"
      ]
     },
     "execution_count": 55,
     "metadata": {},
     "output_type": "execute_result"
    }
   ],
   "source": [
    "dups.shape "
   ]
  },
  {
   "cell_type": "code",
   "execution_count": 57,
   "id": "08a5d5d6",
   "metadata": {},
   "outputs": [
    {
     "data": {
      "text/plain": [
       "GASOLINE    4810\n",
       "ELECTRIC     622\n",
       "HYBRID       274\n",
       "DIESEL        70\n",
       "Name: fuel.type, dtype: int64"
      ]
     },
     "execution_count": 57,
     "metadata": {},
     "output_type": "execute_result"
    }
   ],
   "source": [
    "# check count of fuel type\n",
    "\n",
    "df[\"fuel.type\"].value_counts()\n"
   ]
  },
  {
   "cell_type": "code",
   "execution_count": 62,
   "id": "6894e669",
   "metadata": {},
   "outputs": [
    {
     "name": "stdout",
     "output_type": "stream",
     "text": [
      "Number of Categories in: \n",
      "fuel.type = 4\n",
      "location.city = 968\n",
      "location.state = 46\n",
      "vehicle.make = 54\n",
      "vehicle.model = 523\n",
      "vehicle.year = 33\n"
     ]
    }
   ],
   "source": [
    "# get number of categories values \n",
    "\n",
    "print(\"Number of Categories in: \")\n",
    "for ColName in df[['fuel.type','location.city','location.state','vehicle.make','vehicle.model','vehicle.year']]:\n",
    "    print(\"{} = {}\".format(ColName,len(df[ColName].unique())))"
   ]
  },
  {
   "cell_type": "code",
   "execution_count": 69,
   "id": "4468e5d8",
   "metadata": {},
   "outputs": [
    {
     "name": "stderr",
     "output_type": "stream",
     "text": [
      "C:\\Users\\thoms\\anaconda3\\lib\\site-packages\\seaborn\\distributions.py:2619: FutureWarning: `distplot` is a deprecated function and will be removed in a future version. Please adapt your code to use either `displot` (a figure-level function with similar flexibility) or `histplot` (an axes-level function for histograms).\n",
      "  warnings.warn(msg, FutureWarning)\n"
     ]
    },
    {
     "data": {
      "text/plain": [
       "<AxesSubplot:xlabel='rate.daily', ylabel='Density'>"
      ]
     },
     "execution_count": 69,
     "metadata": {},
     "output_type": "execute_result"
    },
    {
     "data": {
      "image/png": "[encoded data removed]",
      "text/plain": [
       "<Figure size 432x288 with 1 Axes>"
      ]
     },
     "metadata": {},
     "output_type": "display_data"
    }
   ],
   "source": [
    "# Extreme values checks\n",
    "\n",
    "\n",
    "sns.distplot(df['rate.daily'], bins=25)"
   ]
  },
  {
   "cell_type": "code",
   "execution_count": 70,
   "id": "fad083ff",
   "metadata": {},
   "outputs": [
    {
     "data": {
      "image/png": "[encoded data removed]",
      "text/plain": [
       "<Figure size 432x288 with 1 Axes>"
      ]
     },
     "metadata": {},
     "output_type": "display_data"
    }
   ],
   "source": [
    "# Data prep for Regession Analysis\n",
    "# create scatterplot loan_amount vs person_income\n",
    "\n",
    "df.plot(x='rate.daily', y='renter.trips.taken', style='o')\n",
    "plt.title('rate.daily vs renter.trips.taken')\n",
    "plt.xlabel('rate.daily')\n",
    "plt.ylabel('renter.trips.taken')\n",
    "plt.show()"
   ]
  },
  {
   "cell_type": "code",
   "execution_count": 71,
   "id": "eab14b3e",
   "metadata": {},
   "outputs": [],
   "source": [
    "# reshape the variables\n",
    "\n",
    "x = df['rate.daily'].values.reshape(-1,1)\n",
    "y = df['renter.trips.taken'].values.reshape(-1,1)"
   ]
  },
  {
   "cell_type": "code",
   "execution_count": 72,
   "id": "fed68f69",
   "metadata": {},
   "outputs": [
    {
     "data": {
      "text/plain": [
       "array([[135],\n",
       "       [190],\n",
       "       [ 35],\n",
       "       ...,\n",
       "       [ 35],\n",
       "       [ 77],\n",
       "       [ 35]], dtype=int64)"
      ]
     },
     "execution_count": 72,
     "metadata": {},
     "output_type": "execute_result"
    }
   ],
   "source": [
    "x"
   ]
  },
  {
   "cell_type": "code",
   "execution_count": 73,
   "id": "5bb8ee31",
   "metadata": {},
   "outputs": [
    {
     "data": {
      "text/plain": [
       "array([[13.],\n",
       "       [ 2.],\n",
       "       [28.],\n",
       "       ...,\n",
       "       [18.],\n",
       "       [ 1.],\n",
       "       [16.]])"
      ]
     },
     "execution_count": 73,
     "metadata": {},
     "output_type": "execute_result"
    }
   ],
   "source": [
    "y"
   ]
  },
  {
   "cell_type": "markdown",
   "id": "f3234cb4",
   "metadata": {},
   "source": [
    "## Hypothesis\n",
    "\n",
    "## The more a cusomter rents vehicles then the lower the price will be. "
   ]
  },
  {
   "cell_type": "code",
   "execution_count": 74,
   "id": "f7b013de",
   "metadata": {},
   "outputs": [],
   "source": [
    "x_train, x_test, y_train, y_test = train_test_split(x, y, test_size=0.3, random_state=0)"
   ]
  },
  {
   "cell_type": "code",
   "execution_count": 75,
   "id": "f2349d52",
   "metadata": {},
   "outputs": [],
   "source": [
    "## Regression analysis\n",
    "\n",
    "regression = LinearRegression()"
   ]
  },
  {
   "cell_type": "code",
   "execution_count": 76,
   "id": "63db0a65",
   "metadata": {},
   "outputs": [
    {
     "data": {
      "text/plain": [
       "LinearRegression()"
      ]
     },
     "execution_count": 76,
     "metadata": {},
     "output_type": "execute_result"
    }
   ],
   "source": [
    "regression.fit(x_train, y_train)"
   ]
  },
  {
   "cell_type": "code",
   "execution_count": 77,
   "id": "c378a198",
   "metadata": {},
   "outputs": [],
   "source": [
    "y_predicted = regression.predict(x_test)"
   ]
  },
  {
   "cell_type": "code",
   "execution_count": 78,
   "id": "87b61f8e",
   "metadata": {},
   "outputs": [
    {
     "data": {
      "image/png": "[encoded data removed]",
      "text/plain": [
       "<Figure size 432x288 with 1 Axes>"
      ]
     },
     "metadata": {},
     "output_type": "display_data"
    }
   ],
   "source": [
    "# loan_amount vs person_income\n",
    "\n",
    "plot_test = plt\n",
    "plot_test.scatter(x_test, y_test, color='gray', s = 15)\n",
    "plot_test.plot(x_test, y_predicted, color='red', linewidth =3)\n",
    "plot_test.title('rate.daily vs renter.trips.taken (Test set)')\n",
    "plot_test.xlabel('rate.daily')\n",
    "plot_test.ylabel('renter.trips.taken')\n",
    "plot_test.show()"
   ]
  },
  {
   "cell_type": "code",
   "execution_count": 79,
   "id": "581e8bc4",
   "metadata": {},
   "outputs": [],
   "source": [
    "rmse = mean_squared_error(y_test, y_predicted) \n",
    "r2 = r2_score(y_test, y_predicted)"
   ]
  },
  {
   "cell_type": "code",
   "execution_count": 80,
   "id": "5a8a87b5",
   "metadata": {},
   "outputs": [
    {
     "name": "stdout",
     "output_type": "stream",
     "text": [
      "Slope: [[-0.03946143]]\n",
      "Mean squared error:  1474.16120300757\n",
      "R2 score:  0.007690784278118867\n"
     ]
    }
   ],
   "source": [
    "print('Slope:' ,regression.coef_)\n",
    "print('Mean squared error: ', rmse)\n",
    "print('R2 score: ', r2)"
   ]
  },
  {
   "cell_type": "code",
   "execution_count": 81,
   "id": "f87de671",
   "metadata": {},
   "outputs": [
    {
     "data": {
      "text/html": [
       "<div>\n",
       "<style scoped>\n",
       "    .dataframe tbody tr th:only-of-type {\n",
       "        vertical-align: middle;\n",
       "    }\n",
       "\n",
       "    .dataframe tbody tr th {\n",
       "        vertical-align: top;\n",
       "    }\n",
       "\n",
       "    .dataframe thead th {\n",
       "        text-align: right;\n",
       "    }\n",
       "</style>\n",
       "<table border=\"1\" class=\"dataframe\">\n",
       "  <thead>\n",
       "    <tr style=\"text-align: right;\">\n",
       "      <th></th>\n",
       "      <th>Actual</th>\n",
       "      <th>Predicted</th>\n",
       "    </tr>\n",
       "  </thead>\n",
       "  <tbody>\n",
       "    <tr>\n",
       "      <th>0</th>\n",
       "      <td>60.000000</td>\n",
       "      <td>34.730482</td>\n",
       "    </tr>\n",
       "    <tr>\n",
       "      <th>1</th>\n",
       "      <td>33.477354</td>\n",
       "      <td>34.217483</td>\n",
       "    </tr>\n",
       "    <tr>\n",
       "      <th>2</th>\n",
       "      <td>14.000000</td>\n",
       "      <td>37.374398</td>\n",
       "    </tr>\n",
       "    <tr>\n",
       "      <th>3</th>\n",
       "      <td>44.000000</td>\n",
       "      <td>37.926858</td>\n",
       "    </tr>\n",
       "    <tr>\n",
       "      <th>4</th>\n",
       "      <td>1.000000</td>\n",
       "      <td>35.914325</td>\n",
       "    </tr>\n",
       "    <tr>\n",
       "      <th>5</th>\n",
       "      <td>31.000000</td>\n",
       "      <td>28.140422</td>\n",
       "    </tr>\n",
       "    <tr>\n",
       "      <th>6</th>\n",
       "      <td>33.477354</td>\n",
       "      <td>31.968181</td>\n",
       "    </tr>\n",
       "    <tr>\n",
       "      <th>7</th>\n",
       "      <td>2.000000</td>\n",
       "      <td>39.071239</td>\n",
       "    </tr>\n",
       "    <tr>\n",
       "      <th>8</th>\n",
       "      <td>16.000000</td>\n",
       "      <td>38.439856</td>\n",
       "    </tr>\n",
       "    <tr>\n",
       "      <th>9</th>\n",
       "      <td>5.000000</td>\n",
       "      <td>38.676625</td>\n",
       "    </tr>\n",
       "    <tr>\n",
       "      <th>10</th>\n",
       "      <td>1.000000</td>\n",
       "      <td>37.887396</td>\n",
       "    </tr>\n",
       "    <tr>\n",
       "      <th>11</th>\n",
       "      <td>24.000000</td>\n",
       "      <td>34.927789</td>\n",
       "    </tr>\n",
       "    <tr>\n",
       "      <th>12</th>\n",
       "      <td>44.000000</td>\n",
       "      <td>35.164557</td>\n",
       "    </tr>\n",
       "    <tr>\n",
       "      <th>13</th>\n",
       "      <td>38.000000</td>\n",
       "      <td>36.466785</td>\n",
       "    </tr>\n",
       "    <tr>\n",
       "      <th>14</th>\n",
       "      <td>91.000000</td>\n",
       "      <td>34.769943</td>\n",
       "    </tr>\n",
       "    <tr>\n",
       "      <th>15</th>\n",
       "      <td>253.000000</td>\n",
       "      <td>36.348400</td>\n",
       "    </tr>\n",
       "    <tr>\n",
       "      <th>16</th>\n",
       "      <td>61.000000</td>\n",
       "      <td>38.045242</td>\n",
       "    </tr>\n",
       "    <tr>\n",
       "      <th>17</th>\n",
       "      <td>33.477354</td>\n",
       "      <td>37.887396</td>\n",
       "    </tr>\n",
       "    <tr>\n",
       "      <th>18</th>\n",
       "      <td>59.000000</td>\n",
       "      <td>35.322403</td>\n",
       "    </tr>\n",
       "    <tr>\n",
       "      <th>19</th>\n",
       "      <td>7.000000</td>\n",
       "      <td>37.098168</td>\n",
       "    </tr>\n",
       "    <tr>\n",
       "      <th>20</th>\n",
       "      <td>32.000000</td>\n",
       "      <td>37.966319</td>\n",
       "    </tr>\n",
       "    <tr>\n",
       "      <th>21</th>\n",
       "      <td>99.000000</td>\n",
       "      <td>38.873932</td>\n",
       "    </tr>\n",
       "    <tr>\n",
       "      <th>22</th>\n",
       "      <td>40.000000</td>\n",
       "      <td>31.770874</td>\n",
       "    </tr>\n",
       "    <tr>\n",
       "      <th>23</th>\n",
       "      <td>33.477354</td>\n",
       "      <td>32.165488</td>\n",
       "    </tr>\n",
       "    <tr>\n",
       "      <th>24</th>\n",
       "      <td>8.000000</td>\n",
       "      <td>37.334936</td>\n",
       "    </tr>\n",
       "    <tr>\n",
       "      <th>25</th>\n",
       "      <td>33.477354</td>\n",
       "      <td>37.492782</td>\n",
       "    </tr>\n",
       "    <tr>\n",
       "      <th>26</th>\n",
       "      <td>4.000000</td>\n",
       "      <td>36.348400</td>\n",
       "    </tr>\n",
       "    <tr>\n",
       "      <th>27</th>\n",
       "      <td>70.000000</td>\n",
       "      <td>37.058706</td>\n",
       "    </tr>\n",
       "    <tr>\n",
       "      <th>28</th>\n",
       "      <td>115.000000</td>\n",
       "      <td>38.084703</td>\n",
       "    </tr>\n",
       "    <tr>\n",
       "      <th>29</th>\n",
       "      <td>15.000000</td>\n",
       "      <td>35.598633</td>\n",
       "    </tr>\n",
       "  </tbody>\n",
       "</table>\n",
       "</div>"
      ],
      "text/plain": [
       "        Actual  Predicted\n",
       "0    60.000000  34.730482\n",
       "1    33.477354  34.217483\n",
       "2    14.000000  37.374398\n",
       "3    44.000000  37.926858\n",
       "4     1.000000  35.914325\n",
       "5    31.000000  28.140422\n",
       "6    33.477354  31.968181\n",
       "7     2.000000  39.071239\n",
       "8    16.000000  38.439856\n",
       "9     5.000000  38.676625\n",
       "10    1.000000  37.887396\n",
       "11   24.000000  34.927789\n",
       "12   44.000000  35.164557\n",
       "13   38.000000  36.466785\n",
       "14   91.000000  34.769943\n",
       "15  253.000000  36.348400\n",
       "16   61.000000  38.045242\n",
       "17   33.477354  37.887396\n",
       "18   59.000000  35.322403\n",
       "19    7.000000  37.098168\n",
       "20   32.000000  37.966319\n",
       "21   99.000000  38.873932\n",
       "22   40.000000  31.770874\n",
       "23   33.477354  32.165488\n",
       "24    8.000000  37.334936\n",
       "25   33.477354  37.492782\n",
       "26    4.000000  36.348400\n",
       "27   70.000000  37.058706\n",
       "28  115.000000  38.084703\n",
       "29   15.000000  35.598633"
      ]
     },
     "execution_count": 81,
     "metadata": {},
     "output_type": "execute_result"
    }
   ],
   "source": [
    "# Interpretation of rate.daily vs renter.trips.taken\n",
    "\n",
    "# comparison of actual and predicted\n",
    "\n",
    "data = pd.DataFrame({'Actual': y_test.flatten(), 'Predicted': y_predicted.flatten()})\n",
    "data.head(30)"
   ]
  },
  {
   "cell_type": "code",
   "execution_count": 82,
   "id": "79430ed7",
   "metadata": {},
   "outputs": [],
   "source": [
    "# Comparing against training set\n",
    "\n",
    "y_predicted = regression.predict(x_train)"
   ]
  },
  {
   "cell_type": "code",
   "execution_count": 83,
   "id": "fe3dc708",
   "metadata": {},
   "outputs": [
    {
     "data": {
      "image/png": "[encoded data removed]",
      "text/plain": [
       "<Figure size 432x288 with 1 Axes>"
      ]
     },
     "metadata": {},
     "output_type": "display_data"
    }
   ],
   "source": [
    "plot_train = plt\n",
    "plot_train.scatter(x_train, y_train, color='gray', s = 15)\n",
    "plot_train.plot(x_train, y_predicted, color='red', linewidth =3)\n",
    "plot_train.title('rate.daily vs renter.trips.taken')\n",
    "plot_train.xlabel('rate.dailyt')\n",
    "plot_train.ylabel('renter.trips.take')\n",
    "plot_train.show()"
   ]
  },
  {
   "cell_type": "code",
   "execution_count": 84,
   "id": "b6971672",
   "metadata": {},
   "outputs": [],
   "source": [
    "rmse = mean_squared_error(y_train, y_predicted) \n",
    "r2 = r2_score(y_train, y_predicted)"
   ]
  },
  {
   "cell_type": "code",
   "execution_count": 85,
   "id": "29a8ab6b",
   "metadata": {},
   "outputs": [
    {
     "name": "stdout",
     "output_type": "stream",
     "text": [
      "Slope: [[-0.03946143]]\n",
      "Mean squared error:  1740.5823052771962\n",
      "R2 score:  0.0077459783618768485\n"
     ]
    }
   ],
   "source": [
    "print('Slope:' ,regression.coef_)\n",
    "print('Mean squared error: ', rmse)\n",
    "print('R2 score: ', r2)"
   ]
  },
  {
   "cell_type": "code",
   "execution_count": null,
   "id": "7235942c",
   "metadata": {},
   "outputs": [],
   "source": []
  }
 ],
 "metadata": {
  "kernelspec": {
   "display_name": "Python 3 (ipykernel)",
   "language": "python",
   "name": "python3"
  },
  "language_info": {
   "codemirror_mode": {
    "name": "ipython",
    "version": 3
   },
   "file_extension": ".py",
   "mimetype": "text/x-python",
   "name": "python",
   "nbconvert_exporter": "python",
   "pygments_lexer": "ipython3",
   "version": "3.9.7"
  }
 },
 "nbformat": 4,
 "nbformat_minor": 5
}
